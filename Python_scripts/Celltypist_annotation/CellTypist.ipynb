{
 "cells": [
  {
   "cell_type": "code",
   "execution_count": 9,
   "id": "672abb6b",
   "metadata": {},
   "outputs": [],
   "source": [
    "#!pip install celltypist"
   ]
  },
  {
   "cell_type": "code",
   "execution_count": 10,
   "id": "f55e4dcc",
   "metadata": {},
   "outputs": [],
   "source": [
    "import scanpy as sc\n",
    "import pandas as pd\n",
    "import celltypist\n",
    "import numpy as np\n",
    "from scipy import sparse"
   ]
  },
  {
   "cell_type": "code",
   "execution_count": 11,
   "id": "40dfbdf8",
   "metadata": {},
   "outputs": [],
   "source": [
    "Triana_AML = sc.read('Triana_datasets/Triana_AML.h5ad')"
   ]
  },
  {
   "cell_type": "code",
   "execution_count": 12,
   "id": "e378f305",
   "metadata": {},
   "outputs": [
    {
     "data": {
      "text/html": [
       "<div>\n",
       "<style scoped>\n",
       "    .dataframe tbody tr th:only-of-type {\n",
       "        vertical-align: middle;\n",
       "    }\n",
       "\n",
       "    .dataframe tbody tr th {\n",
       "        vertical-align: top;\n",
       "    }\n",
       "\n",
       "    .dataframe thead th {\n",
       "        text-align: right;\n",
       "    }\n",
       "</style>\n",
       "<table border=\"1\" class=\"dataframe\">\n",
       "  <thead>\n",
       "    <tr style=\"text-align: right;\">\n",
       "      <th></th>\n",
       "      <th>orig.ident</th>\n",
       "      <th>nCount_RNA</th>\n",
       "      <th>nFeature_RNA</th>\n",
       "      <th>nCount_AB</th>\n",
       "      <th>nFeature_AB</th>\n",
       "      <th>nCount_BOTH</th>\n",
       "      <th>nFeature_BOTH</th>\n",
       "      <th>Batch</th>\n",
       "      <th>ClusterID</th>\n",
       "      <th>Sample_Tag</th>\n",
       "      <th>Sample_Name</th>\n",
       "      <th>CellTypes</th>\n",
       "      <th>cDC</th>\n",
       "      <th>B.cells</th>\n",
       "      <th>Myelocytes</th>\n",
       "      <th>Erythroid</th>\n",
       "      <th>Megakaryocte</th>\n",
       "    </tr>\n",
       "  </thead>\n",
       "  <tbody>\n",
       "    <tr>\n",
       "      <th>645636_1</th>\n",
       "      <td>SeuratProject</td>\n",
       "      <td>8686.0</td>\n",
       "      <td>271</td>\n",
       "      <td>9164.0</td>\n",
       "      <td>97</td>\n",
       "      <td>17850.0</td>\n",
       "      <td>368</td>\n",
       "      <td>AML1</td>\n",
       "      <td>8</td>\n",
       "      <td>NA</td>\n",
       "      <td>NA</td>\n",
       "      <td>0</td>\n",
       "      <td>3.835037</td>\n",
       "      <td>3.045292</td>\n",
       "      <td>3.846212</td>\n",
       "      <td>NaN</td>\n",
       "      <td>NaN</td>\n",
       "    </tr>\n",
       "    <tr>\n",
       "      <th>396386_1</th>\n",
       "      <td>SeuratProject</td>\n",
       "      <td>8186.0</td>\n",
       "      <td>253</td>\n",
       "      <td>5696.0</td>\n",
       "      <td>96</td>\n",
       "      <td>13882.0</td>\n",
       "      <td>349</td>\n",
       "      <td>AML1</td>\n",
       "      <td>8</td>\n",
       "      <td>NA</td>\n",
       "      <td>NA</td>\n",
       "      <td>0</td>\n",
       "      <td>4.628179</td>\n",
       "      <td>NaN</td>\n",
       "      <td>4.689549</td>\n",
       "      <td>NaN</td>\n",
       "      <td>NaN</td>\n",
       "    </tr>\n",
       "    <tr>\n",
       "      <th>388968_1</th>\n",
       "      <td>SeuratProject</td>\n",
       "      <td>7103.0</td>\n",
       "      <td>261</td>\n",
       "      <td>2623.0</td>\n",
       "      <td>95</td>\n",
       "      <td>9726.0</td>\n",
       "      <td>356</td>\n",
       "      <td>AML1</td>\n",
       "      <td>8</td>\n",
       "      <td>NA</td>\n",
       "      <td>NA</td>\n",
       "      <td>0</td>\n",
       "      <td>4.042680</td>\n",
       "      <td>NaN</td>\n",
       "      <td>4.059543</td>\n",
       "      <td>NaN</td>\n",
       "      <td>NaN</td>\n",
       "    </tr>\n",
       "    <tr>\n",
       "      <th>836004_1</th>\n",
       "      <td>SeuratProject</td>\n",
       "      <td>6703.0</td>\n",
       "      <td>247</td>\n",
       "      <td>4382.0</td>\n",
       "      <td>94</td>\n",
       "      <td>11085.0</td>\n",
       "      <td>341</td>\n",
       "      <td>AML1</td>\n",
       "      <td>2</td>\n",
       "      <td>NA</td>\n",
       "      <td>NA</td>\n",
       "      <td>0</td>\n",
       "      <td>4.608414</td>\n",
       "      <td>3.860729</td>\n",
       "      <td>4.674518</td>\n",
       "      <td>NaN</td>\n",
       "      <td>NaN</td>\n",
       "    </tr>\n",
       "    <tr>\n",
       "      <th>861250_1</th>\n",
       "      <td>SeuratProject</td>\n",
       "      <td>6774.0</td>\n",
       "      <td>234</td>\n",
       "      <td>6151.0</td>\n",
       "      <td>94</td>\n",
       "      <td>12925.0</td>\n",
       "      <td>328</td>\n",
       "      <td>AML1</td>\n",
       "      <td>6</td>\n",
       "      <td>NA</td>\n",
       "      <td>NA</td>\n",
       "      <td>1</td>\n",
       "      <td>7.502024</td>\n",
       "      <td>NaN</td>\n",
       "      <td>7.939877</td>\n",
       "      <td>NaN</td>\n",
       "      <td>NaN</td>\n",
       "    </tr>\n",
       "    <tr>\n",
       "      <th>...</th>\n",
       "      <td>...</td>\n",
       "      <td>...</td>\n",
       "      <td>...</td>\n",
       "      <td>...</td>\n",
       "      <td>...</td>\n",
       "      <td>...</td>\n",
       "      <td>...</td>\n",
       "      <td>...</td>\n",
       "      <td>...</td>\n",
       "      <td>...</td>\n",
       "      <td>...</td>\n",
       "      <td>...</td>\n",
       "      <td>...</td>\n",
       "      <td>...</td>\n",
       "      <td>...</td>\n",
       "      <td>...</td>\n",
       "      <td>...</td>\n",
       "    </tr>\n",
       "    <tr>\n",
       "      <th>297857_4</th>\n",
       "      <td>SeuratProject</td>\n",
       "      <td>267.0</td>\n",
       "      <td>46</td>\n",
       "      <td>1487.0</td>\n",
       "      <td>84</td>\n",
       "      <td>1754.0</td>\n",
       "      <td>130</td>\n",
       "      <td>APL124</td>\n",
       "      <td>NA</td>\n",
       "      <td>SampleTag07_hs</td>\n",
       "      <td>APL124</td>\n",
       "      <td>21</td>\n",
       "      <td>NaN</td>\n",
       "      <td>NaN</td>\n",
       "      <td>NaN</td>\n",
       "      <td>NaN</td>\n",
       "      <td>NaN</td>\n",
       "    </tr>\n",
       "    <tr>\n",
       "      <th>454298_4</th>\n",
       "      <td>SeuratProject</td>\n",
       "      <td>287.0</td>\n",
       "      <td>64</td>\n",
       "      <td>2110.0</td>\n",
       "      <td>85</td>\n",
       "      <td>2397.0</td>\n",
       "      <td>149</td>\n",
       "      <td>APL224</td>\n",
       "      <td>NA</td>\n",
       "      <td>SampleTag12_hs</td>\n",
       "      <td>APL224</td>\n",
       "      <td>32</td>\n",
       "      <td>NaN</td>\n",
       "      <td>NaN</td>\n",
       "      <td>NaN</td>\n",
       "      <td>NaN</td>\n",
       "      <td>NaN</td>\n",
       "    </tr>\n",
       "    <tr>\n",
       "      <th>815439_4</th>\n",
       "      <td>SeuratProject</td>\n",
       "      <td>280.0</td>\n",
       "      <td>63</td>\n",
       "      <td>939.0</td>\n",
       "      <td>81</td>\n",
       "      <td>1219.0</td>\n",
       "      <td>144</td>\n",
       "      <td>APL223</td>\n",
       "      <td>NA</td>\n",
       "      <td>SampleTag11_hs</td>\n",
       "      <td>APL223</td>\n",
       "      <td>20</td>\n",
       "      <td>NaN</td>\n",
       "      <td>NaN</td>\n",
       "      <td>NaN</td>\n",
       "      <td>NaN</td>\n",
       "      <td>NaN</td>\n",
       "    </tr>\n",
       "    <tr>\n",
       "      <th>53548_4</th>\n",
       "      <td>SeuratProject</td>\n",
       "      <td>257.0</td>\n",
       "      <td>56</td>\n",
       "      <td>2213.0</td>\n",
       "      <td>66</td>\n",
       "      <td>2470.0</td>\n",
       "      <td>122</td>\n",
       "      <td>APL223</td>\n",
       "      <td>NA</td>\n",
       "      <td>SampleTag11_hs</td>\n",
       "      <td>APL223</td>\n",
       "      <td>24</td>\n",
       "      <td>NaN</td>\n",
       "      <td>NaN</td>\n",
       "      <td>NaN</td>\n",
       "      <td>NaN</td>\n",
       "      <td>NaN</td>\n",
       "    </tr>\n",
       "    <tr>\n",
       "      <th>545100_4</th>\n",
       "      <td>SeuratProject</td>\n",
       "      <td>282.0</td>\n",
       "      <td>73</td>\n",
       "      <td>1511.0</td>\n",
       "      <td>79</td>\n",
       "      <td>1793.0</td>\n",
       "      <td>152</td>\n",
       "      <td>APL223</td>\n",
       "      <td>NA</td>\n",
       "      <td>SampleTag11_hs</td>\n",
       "      <td>APL223</td>\n",
       "      <td>20</td>\n",
       "      <td>NaN</td>\n",
       "      <td>NaN</td>\n",
       "      <td>NaN</td>\n",
       "      <td>NaN</td>\n",
       "      <td>NaN</td>\n",
       "    </tr>\n",
       "  </tbody>\n",
       "</table>\n",
       "<p>31586 rows × 17 columns</p>\n",
       "</div>"
      ],
      "text/plain": [
       "             orig.ident  nCount_RNA  nFeature_RNA  nCount_AB  nFeature_AB  \\\n",
       "645636_1  SeuratProject      8686.0           271     9164.0           97   \n",
       "396386_1  SeuratProject      8186.0           253     5696.0           96   \n",
       "388968_1  SeuratProject      7103.0           261     2623.0           95   \n",
       "836004_1  SeuratProject      6703.0           247     4382.0           94   \n",
       "861250_1  SeuratProject      6774.0           234     6151.0           94   \n",
       "...                 ...         ...           ...        ...          ...   \n",
       "297857_4  SeuratProject       267.0            46     1487.0           84   \n",
       "454298_4  SeuratProject       287.0            64     2110.0           85   \n",
       "815439_4  SeuratProject       280.0            63      939.0           81   \n",
       "53548_4   SeuratProject       257.0            56     2213.0           66   \n",
       "545100_4  SeuratProject       282.0            73     1511.0           79   \n",
       "\n",
       "          nCount_BOTH  nFeature_BOTH   Batch ClusterID      Sample_Tag  \\\n",
       "645636_1      17850.0            368    AML1         8              NA   \n",
       "396386_1      13882.0            349    AML1         8              NA   \n",
       "388968_1       9726.0            356    AML1         8              NA   \n",
       "836004_1      11085.0            341    AML1         2              NA   \n",
       "861250_1      12925.0            328    AML1         6              NA   \n",
       "...               ...            ...     ...       ...             ...   \n",
       "297857_4       1754.0            130  APL124        NA  SampleTag07_hs   \n",
       "454298_4       2397.0            149  APL224        NA  SampleTag12_hs   \n",
       "815439_4       1219.0            144  APL223        NA  SampleTag11_hs   \n",
       "53548_4        2470.0            122  APL223        NA  SampleTag11_hs   \n",
       "545100_4       1793.0            152  APL223        NA  SampleTag11_hs   \n",
       "\n",
       "         Sample_Name  CellTypes       cDC   B.cells  Myelocytes  Erythroid  \\\n",
       "645636_1          NA          0  3.835037  3.045292    3.846212        NaN   \n",
       "396386_1          NA          0  4.628179       NaN    4.689549        NaN   \n",
       "388968_1          NA          0  4.042680       NaN    4.059543        NaN   \n",
       "836004_1          NA          0  4.608414  3.860729    4.674518        NaN   \n",
       "861250_1          NA          1  7.502024       NaN    7.939877        NaN   \n",
       "...              ...        ...       ...       ...         ...        ...   \n",
       "297857_4      APL124         21       NaN       NaN         NaN        NaN   \n",
       "454298_4      APL224         32       NaN       NaN         NaN        NaN   \n",
       "815439_4      APL223         20       NaN       NaN         NaN        NaN   \n",
       "53548_4       APL223         24       NaN       NaN         NaN        NaN   \n",
       "545100_4      APL223         20       NaN       NaN         NaN        NaN   \n",
       "\n",
       "          Megakaryocte  \n",
       "645636_1           NaN  \n",
       "396386_1           NaN  \n",
       "388968_1           NaN  \n",
       "836004_1           NaN  \n",
       "861250_1           NaN  \n",
       "...                ...  \n",
       "297857_4           NaN  \n",
       "454298_4           NaN  \n",
       "815439_4           NaN  \n",
       "53548_4            NaN  \n",
       "545100_4           NaN  \n",
       "\n",
       "[31586 rows x 17 columns]"
      ]
     },
     "execution_count": 12,
     "metadata": {},
     "output_type": "execute_result"
    }
   ],
   "source": [
    "Triana_AML.obs"
   ]
  },
  {
   "cell_type": "code",
   "execution_count": 13,
   "id": "41405ec8",
   "metadata": {},
   "outputs": [
    {
     "data": {
      "text/plain": [
       "CellTypes\n",
       "4     9935\n",
       "2     5106\n",
       "6     2736\n",
       "22    1793\n",
       "25    1773\n",
       "7     1373\n",
       "24     968\n",
       "3      933\n",
       "0      913\n",
       "21     890\n",
       "5      877\n",
       "13     690\n",
       "8      552\n",
       "31     440\n",
       "20     416\n",
       "18     322\n",
       "27     261\n",
       "30     230\n",
       "28     190\n",
       "32     179\n",
       "33     175\n",
       "1      156\n",
       "26      94\n",
       "17      92\n",
       "15      89\n",
       "14      64\n",
       "10      62\n",
       "29      58\n",
       "39      55\n",
       "11      25\n",
       "23      24\n",
       "37      23\n",
       "36      21\n",
       "35      19\n",
       "9       16\n",
       "16      13\n",
       "19      10\n",
       "41       4\n",
       "42       3\n",
       "34       2\n",
       "40       2\n",
       "12       1\n",
       "38       1\n",
       "Name: count, dtype: int64"
      ]
     },
     "execution_count": 13,
     "metadata": {},
     "output_type": "execute_result"
    }
   ],
   "source": [
    "# Display cell types in object\n",
    "Triana_AML.obs['CellTypes'].value_counts()"
   ]
  },
  {
   "cell_type": "code",
   "execution_count": 14,
   "id": "89d2f2bd",
   "metadata": {},
   "outputs": [],
   "source": [
    "cell_types_conversion = {\n",
    "    4: \"Classical Monocytes\",\n",
    "    2: \"Myeloblasts\",\n",
    "    6: \"Myelocytes\",\n",
    "    22: \"CD4+ memory T cells\",\n",
    "    25: \"CD8+ effector memory T cells\",\n",
    "    7: \"HSCs & MPPs\",\n",
    "    24: \"CD8+ central memory T cells\",\n",
    "    3: \"Promyelocytes\",\n",
    "    0: \"Lymphoid-primed multipotent progenitors\",\n",
    "    21: \"CD8+CD103+ tissue resident memory T cells\",\n",
    "    5: \"Conventional dendritic cell 2\",\n",
    "    13: \"CD56dimCD16+ NK cells\",\n",
    "    8: \"Non-classical monocytes\",\n",
    "    31: \"Aberrant erythroid\",\n",
    "    20: \"Mature naive B cells\",\n",
    "    18: \"Nonswitched memory B cells\",\n",
    "    27: \"GammaDelta T cells\",\n",
    "    30: \"Late erythroid progenitor\",\n",
    "    28: \"CD4+ naive T cells\",\n",
    "    32: \"CD4+ cytotoxic T cells\",\n",
    "    33: \"CD8+ naive T cells\",\n",
    "    1: \"Conventional dendritic cell 1\",\n",
    "    26: \"Class switched memory B cells\",\n",
    "    17: \"Eosinophil-basophil-mast cell progenitors\",\n",
    "    15: \"Erythro-myeloid progenitors\",\n",
    "    14: \"Early erythroid progenitor\",\n",
    "    10: \"Megakaryocyte progenitors\",\n",
    "    29: \"Plasma cells\",\n",
    "    39: \"Monocyte-like blasts\",\n",
    "    11: \"Immature-like blasts\",\n",
    "    23: \"CD11c+ memory B cells\",\n",
    "    37: \"CD56brightCD16- NK cells\",\n",
    "    36: \"NK T cells\",\n",
    "    35: \"Mesenchymal cells_65_1\",\n",
    "    9: \"Plasmacytoid dendritic cell progenitors\",\n",
    "    16: \"CD69+PD-1+ memory CD4+ T cells\",\n",
    "    19: \"Plasmacytoid dendritic cells\",\n",
    "    41: \"Pre-B cells\",\n",
    "    42: \"Immature B cells\",\n",
    "    34: \"NK cell progenitors\",\n",
    "    40: \"Pro-B cells\",\n",
    "    12: \"Pre-pro-B cells\",\n",
    "    38: \"Mesenchymal cells_65_2\"\n",
    "}"
   ]
  },
  {
   "cell_type": "code",
   "execution_count": 15,
   "id": "71843338",
   "metadata": {},
   "outputs": [],
   "source": [
    "Triana_AML.obs['CellTypes'] = Triana_AML.obs['CellTypes'].map(cell_types_conversion)"
   ]
  },
  {
   "cell_type": "code",
   "execution_count": 16,
   "id": "a7b95b4c",
   "metadata": {},
   "outputs": [
    {
     "name": "stderr",
     "output_type": "stream",
     "text": [
      "... storing 'orig.ident' as categorical\n",
      "... storing 'Batch' as categorical\n",
      "... storing 'ClusterID' as categorical\n",
      "... storing 'Sample_Tag' as categorical\n",
      "... storing 'Sample_Name' as categorical\n",
      "... storing 'CellTypes' as categorical\n"
     ]
    }
   ],
   "source": [
    "Triana_AML.write('Triana_datasets/Triana_AML_celltype_updated.h5ad')"
   ]
  },
  {
   "cell_type": "code",
   "execution_count": 17,
   "id": "ae6c8c38",
   "metadata": {},
   "outputs": [
    {
     "data": {
      "text/plain": [
       "(31586, 558)"
      ]
     },
     "execution_count": 17,
     "metadata": {},
     "output_type": "execute_result"
    }
   ],
   "source": [
    "Triana_AML.shape"
   ]
  },
  {
   "cell_type": "code",
   "execution_count": 18,
   "id": "8d4aca03",
   "metadata": {},
   "outputs": [
    {
     "data": {
      "text/plain": [
       "array([ 490.19196313,  360.84477601,  415.59819687, ..., -105.65026137,\n",
       "       -144.76894629,  -49.20512604])"
      ]
     },
     "execution_count": 18,
     "metadata": {},
     "output_type": "execute_result"
    }
   ],
   "source": [
    "Triana_AML.X.sum(axis = 1)"
   ]
  },
  {
   "cell_type": "code",
   "execution_count": 19,
   "id": "2c917dbf",
   "metadata": {},
   "outputs": [],
   "source": [
    "#if sparse.issparse(Triana_AML.X):\n",
    "#    Triana_AML.X.data[Triana_AML.X.data < 0] = 0  # Clip negatives in sparse matrix\n",
    "#else:\n",
    "#    Triana_AML.X = np.where(Triana_AML.X < 0, 0, Triana_AML.X)  # Clip negatives in dense matrix\n",
    "#    \n",
    "#sc.pp.normalize_total(Triana_AML, target_sum=1e4)\n",
    "#sc.pp.log1p(Triana_AML)"
   ]
  },
  {
   "cell_type": "code",
   "execution_count": null,
   "id": "220358d6",
   "metadata": {},
   "outputs": [],
   "source": [
    "np.log1p(Triana_AML)"
   ]
  },
  {
   "cell_type": "code",
   "execution_count": null,
   "id": "dcea472e",
   "metadata": {},
   "outputs": [
    {
     "data": {
      "text/plain": [
       "array([490.19196313, 360.84477601, 415.59819687, 263.23271966,\n",
       "       310.9262537 , 210.74680106, 117.28835656, 168.08834199,\n",
       "       425.5111297 , 300.71921976])"
      ]
     },
     "execution_count": 6,
     "metadata": {},
     "output_type": "execute_result"
    }
   ],
   "source": [
    "Triana_AML.X.sum(axis=1)[:10]  # Should be around 10,000\n",
    "np.any(Triana_AML.X < 0)       # Should be False"
   ]
  },
  {
   "cell_type": "code",
   "execution_count": null,
   "id": "0b99feba",
   "metadata": {},
   "outputs": [
    {
     "name": "stderr",
     "output_type": "stream",
     "text": [
      "🍳 Preparing data before training\n",
      "👀 Detected scaled expression in the input data, will try the .raw attribute\n"
     ]
    },
    {
     "ename": "ValueError",
     "evalue": "🛑 Invalid expression matrix, expect log1p normalized expression to 10000 counts per cell",
     "output_type": "error",
     "traceback": [
      "\u001b[1;31m---------------------------------------------------------------------------\u001b[0m",
      "\u001b[1;31mValueError\u001b[0m                                Traceback (most recent call last)",
      "Cell \u001b[1;32mIn[7], line 2\u001b[0m\n\u001b[0;32m      1\u001b[0m \u001b[38;5;66;03m# Train the model using HistGradientBoostingClassifier\u001b[39;00m\n\u001b[1;32m----> 2\u001b[0m AML_model \u001b[38;5;241m=\u001b[39m celltypist\u001b[38;5;241m.\u001b[39mtrain(\n\u001b[0;32m      3\u001b[0m \tTriana_AML, \n\u001b[0;32m      4\u001b[0m \tlabels\u001b[38;5;241m=\u001b[39m\u001b[38;5;124m\"\u001b[39m\u001b[38;5;124mCellTypes\u001b[39m\u001b[38;5;124m\"\u001b[39m, \n\u001b[0;32m      5\u001b[0m \tn_jobs\u001b[38;5;241m=\u001b[39m\u001b[38;5;241m10\u001b[39m, \n\u001b[0;32m      6\u001b[0m \tfeature_selection\u001b[38;5;241m=\u001b[39m\u001b[38;5;28;01mTrue\u001b[39;00m,\n\u001b[0;32m      7\u001b[0m  \tcheck_expression \u001b[38;5;241m=\u001b[39m \u001b[38;5;28;01mTrue\u001b[39;00m\n\u001b[0;32m      8\u001b[0m   \t\u001b[38;5;66;03m#use_SGD=True,\u001b[39;00m\n\u001b[0;32m      9\u001b[0m    \t\u001b[38;5;66;03m#max_iter=1000,\u001b[39;00m\n\u001b[0;32m     10\u001b[0m     \u001b[38;5;66;03m#mini_batch=True,\u001b[39;00m\n\u001b[0;32m     11\u001b[0m     \u001b[38;5;66;03m#balance_cell_type=True\u001b[39;00m\n\u001b[0;32m     12\u001b[0m )\n",
      "File \u001b[1;32mc:\\Anaconda\\Lib\\site-packages\\celltypist\\train.py:332\u001b[0m, in \u001b[0;36mtrain\u001b[1;34m(X, labels, genes, transpose_input, with_mean, check_expression, C, solver, max_iter, n_jobs, use_SGD, alpha, use_GPU, mini_batch, batch_number, batch_size, epochs, balance_cell_type, feature_selection, top_genes, date, details, url, source, version, **kwargs)\u001b[0m\n\u001b[0;32m    330\u001b[0m \u001b[38;5;66;03m#check\u001b[39;00m\n\u001b[0;32m    331\u001b[0m \u001b[38;5;28;01mif\u001b[39;00m check_expression \u001b[38;5;129;01mand\u001b[39;00m (np\u001b[38;5;241m.\u001b[39mabs(np\u001b[38;5;241m.\u001b[39mexpm1(indata[\u001b[38;5;241m0\u001b[39m])\u001b[38;5;241m.\u001b[39msum()\u001b[38;5;241m-\u001b[39m\u001b[38;5;241m10000\u001b[39m) \u001b[38;5;241m>\u001b[39m \u001b[38;5;241m1\u001b[39m):\n\u001b[1;32m--> 332\u001b[0m     \u001b[38;5;28;01mraise\u001b[39;00m \u001b[38;5;167;01mValueError\u001b[39;00m(\n\u001b[0;32m    333\u001b[0m             \u001b[38;5;124m\"\u001b[39m\u001b[38;5;124m🛑 Invalid expression matrix, expect log1p normalized expression to 10000 counts per cell\u001b[39m\u001b[38;5;124m\"\u001b[39m)\n\u001b[0;32m    334\u001b[0m \u001b[38;5;28;01mif\u001b[39;00m \u001b[38;5;28mlen\u001b[39m(labels) \u001b[38;5;241m!=\u001b[39m indata\u001b[38;5;241m.\u001b[39mshape[\u001b[38;5;241m0\u001b[39m]:\n\u001b[0;32m    335\u001b[0m     \u001b[38;5;28;01mraise\u001b[39;00m \u001b[38;5;167;01mValueError\u001b[39;00m(\n\u001b[0;32m    336\u001b[0m             \u001b[38;5;124mf\u001b[39m\u001b[38;5;124m\"\u001b[39m\u001b[38;5;124m🛑 Length of training labels (\u001b[39m\u001b[38;5;132;01m{\u001b[39;00m\u001b[38;5;28mlen\u001b[39m(labels)\u001b[38;5;132;01m}\u001b[39;00m\u001b[38;5;124m) does not match the number of input cells (\u001b[39m\u001b[38;5;132;01m{\u001b[39;00mindata\u001b[38;5;241m.\u001b[39mshape[\u001b[38;5;241m0\u001b[39m]\u001b[38;5;132;01m}\u001b[39;00m\u001b[38;5;124m)\u001b[39m\u001b[38;5;124m\"\u001b[39m)\n",
      "\u001b[1;31mValueError\u001b[0m: 🛑 Invalid expression matrix, expect log1p normalized expression to 10000 counts per cell"
     ]
    }
   ],
   "source": [
    "# Train the model using HistGradientBoostingClassifier\n",
    "AML_model = celltypist.train(\n",
    "\tTriana_AML, \n",
    "\tlabels=\"CellTypes\", \n",
    "\tn_jobs=10, \n",
    "\tfeature_selection=True,\n",
    " \tcheck_expression = True\n",
    "  \t#use_SGD=True,\n",
    "   \t#max_iter=1000,\n",
    "    #mini_batch=True,\n",
    "    #balance_cell_type=True\n",
    ")"
   ]
  },
  {
   "cell_type": "code",
   "execution_count": null,
   "id": "eb75e947",
   "metadata": {},
   "outputs": [],
   "source": [
    "AML_model.write('celltypist_models/Triana_model.pkl')"
   ]
  },
  {
   "cell_type": "code",
   "execution_count": null,
   "id": "cf82a643",
   "metadata": {},
   "outputs": [],
   "source": [
    "from celltypist import Model, models\n",
    "import celltypist"
   ]
  },
  {
   "cell_type": "code",
   "execution_count": null,
   "id": "97a9e45d",
   "metadata": {},
   "outputs": [],
   "source": [
    "AML_model = models.Model.load('celltypist_models/Triana_model.pkl')"
   ]
  },
  {
   "cell_type": "code",
   "execution_count": null,
   "id": "5455a19a",
   "metadata": {},
   "outputs": [],
   "source": [
    "SAB002 = sc.read('SAB002.h5ad')"
   ]
  },
  {
   "cell_type": "code",
   "execution_count": null,
   "id": "2fcf9aa1",
   "metadata": {},
   "outputs": [],
   "source": [
    "#if sparse.issparse(SAB002.X):\n",
    "#    SAB002.X.data[SAB002.X.data < 0] = 0  # Clip negatives in sparse matrix\n",
    "#else:\n",
    "#    SAB002.X = np.where(SAB002.X < 0, 0, SAB002.X)  # Clip negatives in dense matrix\n",
    "#    \n",
    "#sc.pp.normalize_total(SAB002, target_sum=1e4)\n",
    "#sc.pp.log1p(SAB002)"
   ]
  },
  {
   "cell_type": "code",
   "execution_count": null,
   "id": "b60b33bb",
   "metadata": {},
   "outputs": [],
   "source": [
    "np.log1p(Triana_AML)"
   ]
  },
  {
   "cell_type": "code",
   "execution_count": null,
   "id": "5d2c3208",
   "metadata": {},
   "outputs": [],
   "source": [
    "predictions = celltypist.annotate(SAB002, model = 'celltypist_models/Adult_Human_Bone_marrow.pkl', majority_voting = True, mode = 'prob match', p_thres = 0.5)"
   ]
  },
  {
   "cell_type": "code",
   "execution_count": null,
   "id": "71aca47b",
   "metadata": {},
   "outputs": [],
   "source": [
    "predictions.predicted_labels"
   ]
  },
  {
   "cell_type": "code",
   "execution_count": null,
   "id": "62942b01",
   "metadata": {},
   "outputs": [],
   "source": [
    "predictions.predicted_labels[\"predicted_labels\"].unique()"
   ]
  },
  {
   "cell_type": "code",
   "execution_count": null,
   "id": "7514e83d",
   "metadata": {},
   "outputs": [],
   "source": [
    "import matplotlib.pyplot as plt\n",
    "\n",
    "# Count frequency of each label\n",
    "label_counts = predictions.predicted_labels[\"predicted_labels\"].value_counts()\n",
    "# Plotting the frequency histogram\n",
    "plt.figure()\n",
    "label_counts.plot(kind='bar')\n",
    "plt.title('Frequency Histogram of Predicted Labels')\n",
    "plt.xlabel('Label')\n",
    "plt.ylabel('Frequency')\n",
    "plt.xticks(rotation=45)\n",
    "plt.tight_layout()\n",
    "plt.grid(axis='y')\n",
    "plt.show()"
   ]
  },
  {
   "cell_type": "code",
   "execution_count": null,
   "id": "3235a5bd",
   "metadata": {},
   "outputs": [],
   "source": [
    "label_counts"
   ]
  }
 ],
 "metadata": {
  "kernelspec": {
   "display_name": "Python 3",
   "language": "python",
   "name": "python3"
  },
  "language_info": {
   "codemirror_mode": {
    "name": "ipython",
    "version": 3
   },
   "file_extension": ".py",
   "mimetype": "text/x-python",
   "name": "python",
   "nbconvert_exporter": "python",
   "pygments_lexer": "ipython3",
   "version": "3.12.4"
  }
 },
 "nbformat": 4,
 "nbformat_minor": 5
}
